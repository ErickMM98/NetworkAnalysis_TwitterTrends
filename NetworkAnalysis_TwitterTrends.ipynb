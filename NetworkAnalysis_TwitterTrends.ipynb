{
  "nbformat": 4,
  "nbformat_minor": 0,
  "metadata": {
    "colab": {
      "name": "NetworkAnalysis_TwitterTrends.ipynb",
      "provenance": [],
      "collapsed_sections": [],
      "mount_file_id": "19BXWpNSbRjci07ILe_MoTHJ7vT50IFa8",
      "authorship_tag": "ABX9TyOHIFOKi7V+Swfqij4QfBhm",
      "include_colab_link": true
    },
    "kernelspec": {
      "name": "python3",
      "display_name": "Python 3"
    }
  },
  "cells": [
    {
      "cell_type": "markdown",
      "metadata": {
        "id": "view-in-github",
        "colab_type": "text"
      },
      "source": [
        "<a href=\"https://colab.research.google.com/github/ErickMM98/NetworkAnalysis_TwitterTrends/blob/main/NetworkAnalysis_TwitterTrends.ipynb\" target=\"_parent\"><img src=\"https://colab.research.google.com/assets/colab-badge.svg\" alt=\"Open In Colab\"/></a>"
      ]
    },
    {
      "cell_type": "markdown",
      "metadata": {
        "id": "T7Bcm00wy1ct"
      },
      "source": [
        "# **Basic functions**"
      ]
    },
    {
      "cell_type": "code",
      "metadata": {
        "id": "gMO1xRiIqpaq"
      },
      "source": [
        "import tarfile\n",
        "import pandas as pd\n",
        "import numpy as np\n",
        "import networkx as nx\n",
        "import matplotlib.pyplot as plt\n",
        "\n",
        "#GENERAL VALUES (secret values to public)\n",
        "\n",
        "path_main_drive = \"/content/drive/My Drive/NetworkAnalysis_TwitterTrends/virality2013.tar.gz\"\n",
        "path_friends_followers = \"/content/follower_gcc.anony.dat\"\n",
        "path_tweets_users = \"/content/timeline_tag.anony.dat\"\n",
        "path_retweets_users = \"/content/timeline_tag_rt.anony.dat\"\n",
        "path_mentions_users = \"/content/timeline_tag_men.anony.dat\"\n",
        "\n",
        "def extract_file_from_drive():\n",
        "  \"\"\"\n",
        "  Function to extract all the data files.\n",
        "  Just for the first time. \n",
        "  \"\"\"\n",
        "  my_tar = tarfile.open(path_main_drive)\n",
        "  my_tar.extractall('//content')\n",
        "  my_tar.close()  \n",
        "\n",
        "def get_data_followers_and_friends():\n",
        "  \"\"\"\n",
        "  Function to get a dataframe for the file with \n",
        "  the basic relation of mutual follow.\n",
        "\n",
        "  return @Dataframe \n",
        "  \"\"\"\n",
        "  data = pd.read_csv(path_friends_followers,\n",
        "                     sep=' ',\n",
        "                     #nrows = 10000000,\n",
        "                     names=['source', 'target'])\n",
        "  return data\n",
        "\n",
        "def get_data_tweets_time():\n",
        "  \"\"\"\n",
        "  Function to get a dataframe for the file with \n",
        "  the basic relation of mutual follow.\n",
        "\n",
        "  return @Dataframe \n",
        "  \"\"\"\n",
        "  data = pd.read_csv(path_tweets_users,\n",
        "                     sep=' ',\n",
        "                     nrows = 100)\n",
        "                     #names=['source', 'target'])\n",
        "  return data\n",
        "\n",
        "\n",
        "def get_data_retweets_time():\n",
        "  \"\"\"\n",
        "  Function to get a dataframe for the file with \n",
        "  the basic relation of mutual follow.\n",
        "\n",
        "  return @Dataframe \n",
        "  \"\"\"\n",
        "  pass\n",
        "\n",
        "def get_data_mentions_time():\n",
        "  \"\"\"\n",
        "  Function to get a dataframe for the file with \n",
        "  the basic relation of mutual follow.\n",
        "\n",
        "  return @Dataframe \n",
        "  \"\"\"\n",
        "  pass\n",
        "\n",
        "\"\"\"\n",
        "-------------------------------------------------------------------------------\n",
        "-------------------------------------------------------------------------------\n",
        "------------------------ Plot beauty networks ---------------------------------\n",
        "-------------------------------------------------------------------------------\n",
        "-------------------------------------------------------------------------------\n",
        "\"\"\"\n",
        "\n",
        "\n",
        "def plot_social_network():\n",
        "  \"\"\"\n",
        "  Function to plot fancy social network\n",
        "  \"\"\"\n",
        "  #nx.\n",
        "\n",
        "\n",
        "\n",
        "\n",
        "##Con esto podemos leer todo c:\n",
        "\"\"\"\n",
        "all_tweets = None\n",
        "name_all_hastag = {}\n",
        "wihtelist = ['wheniwaslittle', 'oomf','yolo','10factsaboutme','sorrynotsorry']\n",
        "with open(path_tweets_users, 'r') as reader:\n",
        "  K = 10\n",
        "  i = 0\n",
        "  max = 0\n",
        "  namehashatag = None\n",
        "  for line in reader:\n",
        "    list_tweets = line.split()\n",
        "    namehashatag = list_tweets[0]\n",
        "    if namehashatag in wihtelist:\n",
        "      max = counttweets\n",
        "      name_all_hastag[namehashatag] = list_tweets\n",
        "\n",
        "#data = pd.read_csv(path_tweets_users,\n",
        "                     #sep=' ',\n",
        "                     #nrows = 100)\n",
        "                     #names=['source', 'target'])\n",
        "#print(data)\n",
        "\"\"\"\n",
        "\n",
        "#Only for open sesion\n",
        "#extract_file_from_drive()\n",
        "\n",
        "\n",
        "#data = pd.read_csv(path_friends_followers,\n",
        "#                     sep=' ',\n",
        "#                     nrows = 1000,\n",
        "#                     names=['source', 'target'])\n",
        "\n",
        "#f =  open(path_friends_followers, \"rt\")\n",
        "#data = np.loadtxt( path_friends_followers)\n",
        "#print(data)\n"
      ],
      "execution_count": 93,
      "outputs": []
    },
    {
      "cell_type": "markdown",
      "metadata": {
        "id": "Oa16xvWt8PSS"
      },
      "source": [
        "#**Makes basics graphs**"
      ]
    },
    {
      "cell_type": "code",
      "metadata": {
        "id": "mMYBgzi3C5-A"
      },
      "source": [
        "###### Data\n",
        "#data_follow = get_data_followers_and_friends()\n",
        "\n",
        "\n",
        "## Makes graphs\n",
        "G_follow = nx.Graph()\n",
        "#nx.from_pandas_edgelist(df = data_follow,\n",
        "#                        source = 'source',\n",
        "#                        target = 'target',\n",
        "#                        create_using=G_follow)\n",
        "\n",
        "#nx.draw(G_follow)\n",
        "#plt.show()\n",
        "\n",
        "#all_tweets\n",
        "#name_hastag = all_tweets[0:5]\n",
        "\n",
        "#order = sorted(name_all_hastag, key=lambda x: name_all_hastag[x], reverse=True)\n",
        "#print(order[0:100])\n",
        "\n",
        "#prueba = name_all_hastag['sorrynotsorry']\n",
        "#name_h = 'sorrynotsorry'\n",
        "#del prueba[0]\n",
        "#prueba = [ k.split(',') for k in prueba ]\n",
        "#df_final = pd.DataFrame(prueba, columns = ['time','userid'])\n",
        "#path_final_csv = '/content/drive/My Drive/NetworkAnalysis_TwitterTrends/clean_data/datatime/{}.csv'.format(name_h)\n",
        "#df_final.to_csv(path_or_buf=path_final_csv)"
      ],
      "execution_count": 121,
      "outputs": []
    },
    {
      "cell_type": "markdown",
      "metadata": {
        "id": "GWgPfO81YSda"
      },
      "source": [
        "# **Algunas cosas más**"
      ]
    },
    {
      "cell_type": "code",
      "metadata": {
        "id": "143NTFIpYf10"
      },
      "source": [
        "data_follow = get_data_followers_and_friends()\n",
        "name_h = 'sorrynotsorry'\n",
        "path_final_csv = '/content/drive/My Drive/NetworkAnalysis_TwitterTrends/clean_data/datatime/{}.csv'.format(name_h)\n",
        "df_ts = pd.read_csv(path_final_csv)\n",
        "social_network = data_follow[data_follow['source'].isin(df_ts['userid'])]\n",
        "## Makes graphs\n",
        "G_follow = nx.Graph()\n",
        "nx.from_pandas_edgelist(df = social_network,\n",
        "                        source = 'source',\n",
        "                        target = 'target',\n",
        "                        create_using=G_follow)\n",
        "\n",
        "df_ts['time'] = pd.to_datetime(df_ts['time'],unit='s')\n",
        "\n"
      ],
      "execution_count": 148,
      "outputs": []
    }
  ]
}