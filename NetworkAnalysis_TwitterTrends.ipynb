{
  "nbformat": 4,
  "nbformat_minor": 0,
  "metadata": {
    "colab": {
      "name": "NetworkAnalysis_TwitterTrends.ipynb",
      "provenance": [],
      "collapsed_sections": [],
      "mount_file_id": "19BXWpNSbRjci07ILe_MoTHJ7vT50IFa8",
      "authorship_tag": "ABX9TyOSS2BKSd9u4rDLoU7V8Keg",
      "include_colab_link": true
    },
    "kernelspec": {
      "name": "python3",
      "display_name": "Python 3"
    }
  },
  "cells": [
    {
      "cell_type": "markdown",
      "metadata": {
        "id": "view-in-github",
        "colab_type": "text"
      },
      "source": [
        "<a href=\"https://colab.research.google.com/github/ErickMM98/NetworkAnalysis_TwitterTrends/blob/main/NetworkAnalysis_TwitterTrends.ipynb\" target=\"_parent\"><img src=\"https://colab.research.google.com/assets/colab-badge.svg\" alt=\"Open In Colab\"/></a>"
      ]
    },
    {
      "cell_type": "markdown",
      "metadata": {
        "id": "T7Bcm00wy1ct"
      },
      "source": [
        "# **Basic functions**"
      ]
    },
    {
      "cell_type": "code",
      "metadata": {
        "id": "gMO1xRiIqpaq"
      },
      "source": [
        "import tarfile\n",
        "import pandas as pd\n",
        "import numpy as np\n",
        "import networkx as nx\n",
        "import matplotlib.pyplot as plt\n",
        "\n",
        "#GENERAL VALUES (secret values to public)\n",
        "\n",
        "path_main_drive = \"/content/drive/My Drive/NetworkAnalysis_TwitterTrends/virality2013.tar.gz\"\n",
        "path_friends_followers = \"/content/follower_gcc.anony.dat\"\n",
        "path_tweets_users = \"/content/timeline_tag.anony.dat\"\n",
        "path_retweets_users = \"/content/timeline_tag_rt.anony.dat\"\n",
        "path_mentions_users = \"/content/timeline_tag_men.anony.dat\"\n",
        "\n",
        "def extract_file_from_drive():\n",
        "  \"\"\"\n",
        "  Function to extract all the data files.\n",
        "  Just for the first time. \n",
        "  \"\"\"\n",
        "  my_tar = tarfile.open(path_main_drive)\n",
        "  my_tar.extractall('//content')\n",
        "  my_tar.close()  \n",
        "\n",
        "def get_data_followers_and_friends():\n",
        "  \"\"\"\n",
        "  Function to get a dataframe for the file with \n",
        "  the basic relation of mutual follow.\n",
        "\n",
        "  return @Dataframe \n",
        "  \"\"\"\n",
        "  data = pd.read_csv(path_friends_followers,\n",
        "                     sep=' ',\n",
        "                     #nrows = 10000000,\n",
        "                     names=['source', 'target'])\n",
        "  return data\n",
        "\n",
        "def get_data_tweets_time():\n",
        "  \"\"\"\n",
        "  Function to get a dataframe for the file with \n",
        "  the basic relation of mutual follow.\n",
        "\n",
        "  return @Dataframe \n",
        "  \"\"\"\n",
        "  data = pd.read_csv(path_tweets_users,\n",
        "                     sep=' ',\n",
        "                     nrows = 100)\n",
        "                     #names=['source', 'target'])\n",
        "  return data\n",
        "\n",
        "\n",
        "def get_data_retweets_time():\n",
        "  \"\"\"\n",
        "  Function to get a dataframe for the file with \n",
        "  the basic relation of mutual follow.\n",
        "\n",
        "  return @Dataframe \n",
        "  \"\"\"\n",
        "  pass\n",
        "\n",
        "def get_data_mentions_time():\n",
        "  \"\"\"\n",
        "  Function to get a dataframe for the file with \n",
        "  the basic relation of mutual follow.\n",
        "\n",
        "  return @Dataframe \n",
        "  \"\"\"\n",
        "  pass\n",
        "\n",
        "\"\"\"\n",
        "-------------------------------------------------------------------------------\n",
        "-------------------------------------------------------------------------------\n",
        "------------------------ Plot beauty networks ---------------------------------\n",
        "-------------------------------------------------------------------------------\n",
        "-------------------------------------------------------------------------------\n",
        "\"\"\"\n",
        "\n",
        "\n",
        "def plot_social_network():\n",
        "  \"\"\"\n",
        "  Function to plot fancy social network\n",
        "  \"\"\"\n",
        "  #nx.\n",
        "\n",
        "\n",
        "\n",
        "\n",
        "##Con esto podemos leer todo c:\n",
        "\n",
        "ntweets = 4000\n",
        "all_tweets = None\n",
        "name_all_hastag = {}\n",
        "#wihtelist = ['wheniwaslittle', 'oomf','yolo','10factsaboutme','sorrynotsorry']\n",
        "with open(path_tweets_users, 'r') as reader:\n",
        "  namehashatag = None\n",
        "  for line in reader:\n",
        "    list_tweets = line.split()\n",
        "    namehashatag = list_tweets[0]\n",
        "    count_tw = len(list_tweets) - 1\n",
        "    if count_tw >  ntweets:\n",
        "    #max = counttweets\n",
        "      name_all_hastag[namehashatag] = list_tweets\n",
        "\n",
        "#data = pd.read_csv(path_tweets_users,\n",
        "                     #sep=' ',\n",
        "                     #nrows = 100)\n",
        "                     #names=['source', 'target'])\n",
        "#print(data)\n",
        "\n",
        "#Only for open sesion\n",
        "#extract_file_from_drive()\n",
        "\n",
        "\n",
        "#data = pd.read_csv(path_friends_followers,\n",
        "#                     sep=' ',\n",
        "#                     nrows = 1000,\n",
        "#                     names=['source', 'target'])\n",
        "\n",
        "#f =  open(path_friends_followers, \"rt\")\n",
        "#data = np.loadtxt( path_friends_followers)\n",
        "#print(data)\n"
      ],
      "execution_count": 2,
      "outputs": []
    },
    {
      "cell_type": "code",
      "metadata": {
        "id": "E74-IX8p2_lt"
      },
      "source": [
        "!zip -r /content/datatime.zip /content/gen_csv/"
      ],
      "execution_count": null,
      "outputs": []
    },
    {
      "cell_type": "markdown",
      "metadata": {
        "id": "Oa16xvWt8PSS"
      },
      "source": [
        "#**Grafica series de tiempo**"
      ]
    },
    {
      "cell_type": "code",
      "metadata": {
        "id": "mMYBgzi3C5-A",
        "outputId": "7c68bd6b-96ee-404f-8df5-2030de71a84b",
        "colab": {
          "base_uri": "https://localhost:8080/",
          "height": 912
        }
      },
      "source": [
        "###### Data\n",
        "#data_follow = get_data_followers_and_friends()\n",
        "import datetime as dt\n",
        "\n",
        "## Makes graphs\n",
        "G_follow = nx.Graph()\n",
        "#nx.from_pandas_edgelist(df = data_follow,\n",
        "#                        source = 'source',\n",
        "#                        target = 'target',\n",
        "#                        create_using=G_follow)\n",
        "\n",
        "#nx.draw(G_follow)\n",
        "#plt.show()\n",
        "\n",
        "#all_tweets\n",
        "#name_hastag = all_tweets[0:5]\n",
        "\n",
        "#order = sorted(name_all_hastag, key=lambda x: name_all_hastag[x], reverse=True)\n",
        "#print(order[0:100])\n",
        "\n",
        "def givehour(timestamp):\n",
        "    day_string = timestamp.hour\n",
        "    return day_string\n",
        "\n",
        "def giveday(timestamp):\n",
        "    day_string = timestamp.dayofyear\n",
        "    return day_string\n",
        "\n",
        "yolodf = None\n",
        "fig = plt.figure(figsize = (15,15))\n",
        "for name_h in name_all_hastag:\n",
        "  #wihtelist = ['wheniwaslittle', 'oomf','yolo','10factsaboutme','sorrynotsorry']\n",
        "  #wihtelist = ['oomf',\n",
        "  #             'np',\n",
        "  #             'nf',\n",
        "  #             'ff',\n",
        "  #             'teamfollowback',\n",
        "  #             'bahrain',\n",
        "  #             'rt',\n",
        "  #             'thoughtsduringschool',\n",
        "  #             'yolo',\n",
        "  #             'dearoomf']\n",
        "  #wihtelist = ['youvedoneittoo',\n",
        "  #             'iwonderif',\n",
        "  #             'weed',\n",
        "  #             'truestory '\n",
        "  #             'immadbecause',\n",
        "  #             'butyouathug',\n",
        "  #             'stfu',\n",
        "  #             'bored',\n",
        "  #             'ifweweretogetherrightnow',\n",
        "  #             'icantlivewithout',\n",
        "  #             'thatdepressingmoment']\n",
        "  #wihtelist = ['yolo']\n",
        "  wihtelist = ['bored']\n",
        "  if name_h in wihtelist:\n",
        "    print(name_h)\n",
        "    #print(name_h, len(name_all_hastag[name_h]))\n",
        "  #name_h = 'sorrynotsorry'\n",
        "    prueba = name_all_hastag[name_h]\n",
        "    #del prueba[0]\n",
        "    prueba = [ k.split(',') for k in prueba ]\n",
        "    df_final = pd.DataFrame(prueba, columns = ['time','userid'])\n",
        "    #path_final_csv = '/content/gen_csv/{}.csv'.format(name_h)\n",
        "    #df_final.to_csv(path_or_buf=path_final_csv)\n",
        "    df_final['time'] = pd.to_datetime(df_final['time'],unit='s')\n",
        "\n",
        "    df_final['day'] = df_final['time'].apply(giveday)\n",
        "    days = df_final.groupby('day')\n",
        "    daycount = days['day'].count()\n",
        "    timedict = daycount.to_dict()\n",
        "\n",
        "    plt.plot(list(timedict.keys()), list(timedict.values()),\n",
        "             label = \"#{}; n = {}\".format(name_h,\n",
        "                                          np.sum(list(timedict.values()))))\n",
        "    #plt.xticks(list(timedict.keys()), fontsize=15, rotation=90)\n",
        "    yolodf = df_final\n",
        "\n",
        "plt.title(\"Serie de tiempo de algunas tendencias con menor cantidad de $tweets$\")\n",
        "plt.ylabel(\"Cantidad de $tweets$.\")\n",
        "plt.xlabel(\"84 = 24 de Marzo de 2012\")\n",
        "plt.legend()\n",
        "plt.grid()\n",
        "#plt.show()\n",
        "plt.savefig(fname = \"/content/images/ts_tweets_min.pdf\")  "
      ],
      "execution_count": 67,
      "outputs": [
        {
          "output_type": "stream",
          "text": [
            "bored\n"
          ],
          "name": "stdout"
        },
        {
          "output_type": "display_data",
          "data": {
            "image/png": "[encoded data removed]",
            "text/plain": [
              "<Figure size 1080x1080 with 1 Axes>"
            ]
          },
          "metadata": {
            "tags": [],
            "needs_background": "light"
          }
        }
      ]
    },
    {
      "cell_type": "code",
      "metadata": {
        "id": "__vP3vjgwJg4"
      },
      "source": [
        ""
      ],
      "execution_count": null,
      "outputs": []
    },
    {
      "cell_type": "markdown",
      "metadata": {
        "id": "GWgPfO81YSda"
      },
      "source": [
        "# **Funciones para métricas de gráficas**"
      ]
    },
    {
      "cell_type": "code",
      "metadata": {
        "id": "143NTFIpYf10",
        "outputId": "dad30514-21f9-4096-c6af-500bab9d315c",
        "colab": {
          "base_uri": "https://localhost:8080/",
          "height": 1000
        }
      },
      "source": [
        "import collections\n",
        "\n",
        "def givehour(timestamp):\n",
        "    day_string = timestamp.hour\n",
        "    return day_string\n",
        "\n",
        "\n",
        "def entropy_of_graph(G):\n",
        "  \"\"\"\n",
        "  Function to get the entropy of a graph\n",
        "\n",
        "  G : @nx.Graph A graph non directed\n",
        "\n",
        "  return @float The entropy of the graph G\n",
        "  \"\"\"\n",
        "\n",
        "  degree_sequence = sorted([d for n, d in G.degree()], reverse=True)\n",
        "  degreeCount = collections.Counter(degree_sequence)\n",
        "  deg, cnt = zip(*degreeCount.items())\n",
        "  return deg,cnt\n",
        "\n",
        "\n",
        "#### ESTUDIO POR DIAS\n",
        "data_follow = get_data_followers_and_friends()\n",
        "days_study = np.unique(yolodf['day'])\n",
        "for day in days_study:\n",
        "  tweets_for_day = yolodf[yolodf['day'] == day]\n",
        "  edge_links_day = data_follow[data_follow['source'].isin(tweets_for_day['userid'])]\n",
        "  #Por hora\n",
        "  tweets_for_day['hour'] = tweets_for_day['time'].apply(givehour)\n",
        "  hours = tweets_for_day.groupby('hour')\n",
        "  for hour in np.unique(tweets_for_day['hour']):\n",
        "    tweets_for_hour = tweets_for_day[tweets_for_day['hour'] == hour]\n",
        "    edge_links_hour = edge_links_day[edge_links_day['source'].isin(tweets_for_hour['userid'])]\n",
        "\n",
        "    #MAKE A GRAPH\n",
        "    G_follow = nx.Graph()\n",
        "    nx.from_pandas_edgelist(df = edge_links_hour,\n",
        "                        source = 'source',\n",
        "                        target = 'target',\n",
        "                        create_using=G_follow)\n",
        "    \n",
        "    #RETURN DATETIME\n",
        "    oficial_time =  pd.Timedelta(day, unit = 'day') + pd.Timedelta(hour, unit = 'h')\n",
        "\n",
        "    #Some metrics\n",
        "    \n"
      ],
      "execution_count": 81,
      "outputs": [
        {
          "output_type": "stream",
          "text": [
            "/usr/local/lib/python3.6/dist-packages/ipykernel_launcher.py:30: SettingWithCopyWarning: \n",
            "A value is trying to be set on a copy of a slice from a DataFrame.\n",
            "Try using .loc[row_indexer,col_indexer] = value instead\n",
            "\n",
            "See the caveats in the documentation: https://pandas.pydata.org/pandas-docs/stable/user_guide/indexing.html#returning-a-view-versus-a-copy\n"
          ],
          "name": "stderr"
        },
        {
          "output_type": "stream",
          "text": [
            "94 days 00:00:00\n",
            "94 days 01:00:00\n",
            "94 days 02:00:00\n",
            "94 days 03:00:00\n",
            "94 days 04:00:00\n",
            "94 days 05:00:00\n",
            "94 days 06:00:00\n",
            "94 days 07:00:00\n",
            "94 days 08:00:00\n",
            "94 days 09:00:00\n",
            "94 days 10:00:00\n",
            "94 days 11:00:00\n",
            "94 days 12:00:00\n",
            "94 days 13:00:00\n",
            "94 days 14:00:00\n",
            "94 days 15:00:00\n",
            "94 days 16:00:00\n",
            "94 days 17:00:00\n",
            "94 days 18:00:00\n",
            "94 days 19:00:00\n",
            "94 days 20:00:00\n",
            "94 days 21:00:00\n",
            "94 days 22:00:00\n",
            "94 days 23:00:00\n"
          ],
          "name": "stdout"
        },
        {
          "output_type": "stream",
          "text": [
            "/usr/local/lib/python3.6/dist-packages/ipykernel_launcher.py:30: SettingWithCopyWarning: \n",
            "A value is trying to be set on a copy of a slice from a DataFrame.\n",
            "Try using .loc[row_indexer,col_indexer] = value instead\n",
            "\n",
            "See the caveats in the documentation: https://pandas.pydata.org/pandas-docs/stable/user_guide/indexing.html#returning-a-view-versus-a-copy\n"
          ],
          "name": "stderr"
        },
        {
          "output_type": "stream",
          "text": [
            "95 days 00:00:00\n",
            "95 days 01:00:00\n",
            "95 days 02:00:00\n",
            "95 days 03:00:00\n",
            "95 days 04:00:00\n",
            "95 days 05:00:00\n",
            "95 days 06:00:00\n",
            "95 days 07:00:00\n",
            "95 days 08:00:00\n",
            "95 days 09:00:00\n",
            "95 days 10:00:00\n",
            "95 days 11:00:00\n",
            "95 days 12:00:00\n",
            "95 days 14:00:00\n",
            "95 days 15:00:00\n",
            "95 days 16:00:00\n",
            "95 days 17:00:00\n",
            "95 days 18:00:00\n",
            "95 days 19:00:00\n",
            "95 days 20:00:00\n",
            "95 days 21:00:00\n",
            "95 days 22:00:00\n",
            "95 days 23:00:00\n"
          ],
          "name": "stdout"
        },
        {
          "output_type": "stream",
          "text": [
            "/usr/local/lib/python3.6/dist-packages/ipykernel_launcher.py:30: SettingWithCopyWarning: \n",
            "A value is trying to be set on a copy of a slice from a DataFrame.\n",
            "Try using .loc[row_indexer,col_indexer] = value instead\n",
            "\n",
            "See the caveats in the documentation: https://pandas.pydata.org/pandas-docs/stable/user_guide/indexing.html#returning-a-view-versus-a-copy\n"
          ],
          "name": "stderr"
        },
        {
          "output_type": "stream",
          "text": [
            "96 days 00:00:00\n",
            "96 days 01:00:00\n",
            "96 days 02:00:00\n",
            "96 days 03:00:00\n",
            "96 days 04:00:00\n",
            "96 days 05:00:00\n",
            "96 days 06:00:00\n",
            "96 days 07:00:00\n",
            "96 days 08:00:00\n",
            "96 days 09:00:00\n",
            "96 days 10:00:00\n",
            "96 days 11:00:00\n",
            "96 days 12:00:00\n",
            "96 days 13:00:00\n",
            "96 days 14:00:00\n",
            "96 days 15:00:00\n",
            "96 days 16:00:00\n",
            "96 days 17:00:00\n",
            "96 days 19:00:00\n",
            "96 days 20:00:00\n",
            "96 days 21:00:00\n",
            "96 days 22:00:00\n",
            "96 days 23:00:00\n"
          ],
          "name": "stdout"
        },
        {
          "output_type": "stream",
          "text": [
            "/usr/local/lib/python3.6/dist-packages/ipykernel_launcher.py:30: SettingWithCopyWarning: \n",
            "A value is trying to be set on a copy of a slice from a DataFrame.\n",
            "Try using .loc[row_indexer,col_indexer] = value instead\n",
            "\n",
            "See the caveats in the documentation: https://pandas.pydata.org/pandas-docs/stable/user_guide/indexing.html#returning-a-view-versus-a-copy\n"
          ],
          "name": "stderr"
        },
        {
          "output_type": "stream",
          "text": [
            "97 days 00:00:00\n",
            "97 days 01:00:00\n",
            "97 days 02:00:00\n",
            "97 days 03:00:00\n",
            "97 days 04:00:00\n",
            "97 days 05:00:00\n",
            "97 days 06:00:00\n",
            "97 days 07:00:00\n",
            "97 days 08:00:00\n",
            "97 days 09:00:00\n",
            "97 days 10:00:00\n",
            "97 days 11:00:00\n",
            "97 days 12:00:00\n",
            "97 days 13:00:00\n",
            "97 days 15:00:00\n",
            "97 days 16:00:00\n",
            "97 days 18:00:00\n",
            "97 days 19:00:00\n",
            "97 days 20:00:00\n",
            "97 days 21:00:00\n",
            "97 days 22:00:00\n",
            "97 days 23:00:00\n"
          ],
          "name": "stdout"
        },
        {
          "output_type": "error",
          "ename": "KeyboardInterrupt",
          "evalue": "ignored",
          "traceback": [
            "\u001b[0;31m---------------------------------------------------------------------------\u001b[0m",
            "\u001b[0;31mKeyboardInterrupt\u001b[0m                         Traceback (most recent call last)",
            "\u001b[0;32m<ipython-input-81-8c91cf157762>\u001b[0m in \u001b[0;36m<module>\u001b[0;34m()\u001b[0m\n\u001b[1;32m     26\u001b[0m \u001b[0;32mfor\u001b[0m \u001b[0mday\u001b[0m \u001b[0;32min\u001b[0m \u001b[0mdays_study\u001b[0m\u001b[0;34m:\u001b[0m\u001b[0;34m\u001b[0m\u001b[0;34m\u001b[0m\u001b[0m\n\u001b[1;32m     27\u001b[0m   \u001b[0mtweets_for_day\u001b[0m \u001b[0;34m=\u001b[0m \u001b[0myolodf\u001b[0m\u001b[0;34m[\u001b[0m\u001b[0myolodf\u001b[0m\u001b[0;34m[\u001b[0m\u001b[0;34m'day'\u001b[0m\u001b[0;34m]\u001b[0m \u001b[0;34m==\u001b[0m \u001b[0mday\u001b[0m\u001b[0;34m]\u001b[0m\u001b[0;34m\u001b[0m\u001b[0;34m\u001b[0m\u001b[0m\n\u001b[0;32m---> 28\u001b[0;31m   \u001b[0medge_links_day\u001b[0m \u001b[0;34m=\u001b[0m \u001b[0mdata_follow\u001b[0m\u001b[0;34m[\u001b[0m\u001b[0mdata_follow\u001b[0m\u001b[0;34m[\u001b[0m\u001b[0;34m'source'\u001b[0m\u001b[0;34m]\u001b[0m\u001b[0;34m.\u001b[0m\u001b[0misin\u001b[0m\u001b[0;34m(\u001b[0m\u001b[0mtweets_for_day\u001b[0m\u001b[0;34m[\u001b[0m\u001b[0;34m'userid'\u001b[0m\u001b[0;34m]\u001b[0m\u001b[0;34m)\u001b[0m\u001b[0;34m]\u001b[0m\u001b[0;34m\u001b[0m\u001b[0;34m\u001b[0m\u001b[0m\n\u001b[0m\u001b[1;32m     29\u001b[0m   \u001b[0;31m#Por hora\u001b[0m\u001b[0;34m\u001b[0m\u001b[0;34m\u001b[0m\u001b[0;34m\u001b[0m\u001b[0m\n\u001b[1;32m     30\u001b[0m   \u001b[0mtweets_for_day\u001b[0m\u001b[0;34m[\u001b[0m\u001b[0;34m'hour'\u001b[0m\u001b[0;34m]\u001b[0m \u001b[0;34m=\u001b[0m \u001b[0mtweets_for_day\u001b[0m\u001b[0;34m[\u001b[0m\u001b[0;34m'time'\u001b[0m\u001b[0;34m]\u001b[0m\u001b[0;34m.\u001b[0m\u001b[0mapply\u001b[0m\u001b[0;34m(\u001b[0m\u001b[0mgivehour\u001b[0m\u001b[0;34m)\u001b[0m\u001b[0;34m\u001b[0m\u001b[0;34m\u001b[0m\u001b[0m\n",
            "\u001b[0;32m/usr/local/lib/python3.6/dist-packages/pandas/core/series.py\u001b[0m in \u001b[0;36misin\u001b[0;34m(self, values)\u001b[0m\n\u001b[1;32m   4683\u001b[0m         \u001b[0mName\u001b[0m\u001b[0;34m:\u001b[0m \u001b[0manimal\u001b[0m\u001b[0;34m,\u001b[0m \u001b[0mdtype\u001b[0m\u001b[0;34m:\u001b[0m \u001b[0mbool\u001b[0m\u001b[0;34m\u001b[0m\u001b[0;34m\u001b[0m\u001b[0m\n\u001b[1;32m   4684\u001b[0m         \"\"\"\n\u001b[0;32m-> 4685\u001b[0;31m         \u001b[0mresult\u001b[0m \u001b[0;34m=\u001b[0m \u001b[0malgorithms\u001b[0m\u001b[0;34m.\u001b[0m\u001b[0misin\u001b[0m\u001b[0;34m(\u001b[0m\u001b[0mself\u001b[0m\u001b[0;34m,\u001b[0m \u001b[0mvalues\u001b[0m\u001b[0;34m)\u001b[0m\u001b[0;34m\u001b[0m\u001b[0;34m\u001b[0m\u001b[0m\n\u001b[0m\u001b[1;32m   4686\u001b[0m         return self._constructor(result, index=self.index).__finalize__(\n\u001b[1;32m   4687\u001b[0m             \u001b[0mself\u001b[0m\u001b[0;34m,\u001b[0m \u001b[0mmethod\u001b[0m\u001b[0;34m=\u001b[0m\u001b[0;34m\"isin\"\u001b[0m\u001b[0;34m\u001b[0m\u001b[0;34m\u001b[0m\u001b[0m\n",
            "\u001b[0;32m/usr/local/lib/python3.6/dist-packages/pandas/core/algorithms.py\u001b[0m in \u001b[0;36misin\u001b[0;34m(comps, values)\u001b[0m\n\u001b[1;32m    458\u001b[0m             \u001b[0mcomps\u001b[0m \u001b[0;34m=\u001b[0m \u001b[0mcomps\u001b[0m\u001b[0;34m.\u001b[0m\u001b[0mastype\u001b[0m\u001b[0;34m(\u001b[0m\u001b[0mobject\u001b[0m\u001b[0;34m)\u001b[0m\u001b[0;34m\u001b[0m\u001b[0;34m\u001b[0m\u001b[0m\n\u001b[1;32m    459\u001b[0m \u001b[0;34m\u001b[0m\u001b[0m\n\u001b[0;32m--> 460\u001b[0;31m     \u001b[0;32mreturn\u001b[0m \u001b[0mf\u001b[0m\u001b[0;34m(\u001b[0m\u001b[0mcomps\u001b[0m\u001b[0;34m,\u001b[0m \u001b[0mvalues\u001b[0m\u001b[0;34m)\u001b[0m\u001b[0;34m\u001b[0m\u001b[0;34m\u001b[0m\u001b[0m\n\u001b[0m\u001b[1;32m    461\u001b[0m \u001b[0;34m\u001b[0m\u001b[0m\n\u001b[1;32m    462\u001b[0m \u001b[0;34m\u001b[0m\u001b[0m\n",
            "\u001b[0;32m<__array_function__ internals>\u001b[0m in \u001b[0;36min1d\u001b[0;34m(*args, **kwargs)\u001b[0m\n",
            "\u001b[0;32m/usr/local/lib/python3.6/dist-packages/numpy/lib/arraysetops.py\u001b[0m in \u001b[0;36min1d\u001b[0;34m(ar1, ar2, assume_unique, invert)\u001b[0m\n\u001b[1;32m    572\u001b[0m     \u001b[0;31m# Otherwise use sorting\u001b[0m\u001b[0;34m\u001b[0m\u001b[0;34m\u001b[0m\u001b[0;34m\u001b[0m\u001b[0m\n\u001b[1;32m    573\u001b[0m     \u001b[0;32mif\u001b[0m \u001b[0;32mnot\u001b[0m \u001b[0massume_unique\u001b[0m\u001b[0;34m:\u001b[0m\u001b[0;34m\u001b[0m\u001b[0;34m\u001b[0m\u001b[0m\n\u001b[0;32m--> 574\u001b[0;31m         \u001b[0mar1\u001b[0m\u001b[0;34m,\u001b[0m \u001b[0mrev_idx\u001b[0m \u001b[0;34m=\u001b[0m \u001b[0mnp\u001b[0m\u001b[0;34m.\u001b[0m\u001b[0munique\u001b[0m\u001b[0;34m(\u001b[0m\u001b[0mar1\u001b[0m\u001b[0;34m,\u001b[0m \u001b[0mreturn_inverse\u001b[0m\u001b[0;34m=\u001b[0m\u001b[0;32mTrue\u001b[0m\u001b[0;34m)\u001b[0m\u001b[0;34m\u001b[0m\u001b[0;34m\u001b[0m\u001b[0m\n\u001b[0m\u001b[1;32m    575\u001b[0m         \u001b[0mar2\u001b[0m \u001b[0;34m=\u001b[0m \u001b[0mnp\u001b[0m\u001b[0;34m.\u001b[0m\u001b[0munique\u001b[0m\u001b[0;34m(\u001b[0m\u001b[0mar2\u001b[0m\u001b[0;34m)\u001b[0m\u001b[0;34m\u001b[0m\u001b[0;34m\u001b[0m\u001b[0m\n\u001b[1;32m    576\u001b[0m \u001b[0;34m\u001b[0m\u001b[0m\n",
            "\u001b[0;32m<__array_function__ internals>\u001b[0m in \u001b[0;36munique\u001b[0;34m(*args, **kwargs)\u001b[0m\n",
            "\u001b[0;32m/usr/local/lib/python3.6/dist-packages/numpy/lib/arraysetops.py\u001b[0m in \u001b[0;36munique\u001b[0;34m(ar, return_index, return_inverse, return_counts, axis)\u001b[0m\n\u001b[1;32m    261\u001b[0m     \u001b[0mar\u001b[0m \u001b[0;34m=\u001b[0m \u001b[0mnp\u001b[0m\u001b[0;34m.\u001b[0m\u001b[0masanyarray\u001b[0m\u001b[0;34m(\u001b[0m\u001b[0mar\u001b[0m\u001b[0;34m)\u001b[0m\u001b[0;34m\u001b[0m\u001b[0;34m\u001b[0m\u001b[0m\n\u001b[1;32m    262\u001b[0m     \u001b[0;32mif\u001b[0m \u001b[0maxis\u001b[0m \u001b[0;32mis\u001b[0m \u001b[0;32mNone\u001b[0m\u001b[0;34m:\u001b[0m\u001b[0;34m\u001b[0m\u001b[0;34m\u001b[0m\u001b[0m\n\u001b[0;32m--> 263\u001b[0;31m         \u001b[0mret\u001b[0m \u001b[0;34m=\u001b[0m \u001b[0m_unique1d\u001b[0m\u001b[0;34m(\u001b[0m\u001b[0mar\u001b[0m\u001b[0;34m,\u001b[0m \u001b[0mreturn_index\u001b[0m\u001b[0;34m,\u001b[0m \u001b[0mreturn_inverse\u001b[0m\u001b[0;34m,\u001b[0m \u001b[0mreturn_counts\u001b[0m\u001b[0;34m)\u001b[0m\u001b[0;34m\u001b[0m\u001b[0;34m\u001b[0m\u001b[0m\n\u001b[0m\u001b[1;32m    264\u001b[0m         \u001b[0;32mreturn\u001b[0m \u001b[0m_unpack_tuple\u001b[0m\u001b[0;34m(\u001b[0m\u001b[0mret\u001b[0m\u001b[0;34m)\u001b[0m\u001b[0;34m\u001b[0m\u001b[0;34m\u001b[0m\u001b[0m\n\u001b[1;32m    265\u001b[0m \u001b[0;34m\u001b[0m\u001b[0m\n",
            "\u001b[0;32m/usr/local/lib/python3.6/dist-packages/numpy/lib/arraysetops.py\u001b[0m in \u001b[0;36m_unique1d\u001b[0;34m(ar, return_index, return_inverse, return_counts)\u001b[0m\n\u001b[1;32m    306\u001b[0m \u001b[0;34m\u001b[0m\u001b[0m\n\u001b[1;32m    307\u001b[0m     \u001b[0;32mif\u001b[0m \u001b[0moptional_indices\u001b[0m\u001b[0;34m:\u001b[0m\u001b[0;34m\u001b[0m\u001b[0;34m\u001b[0m\u001b[0m\n\u001b[0;32m--> 308\u001b[0;31m         \u001b[0mperm\u001b[0m \u001b[0;34m=\u001b[0m \u001b[0mar\u001b[0m\u001b[0;34m.\u001b[0m\u001b[0margsort\u001b[0m\u001b[0;34m(\u001b[0m\u001b[0mkind\u001b[0m\u001b[0;34m=\u001b[0m\u001b[0;34m'mergesort'\u001b[0m \u001b[0;32mif\u001b[0m \u001b[0mreturn_index\u001b[0m \u001b[0;32melse\u001b[0m \u001b[0;34m'quicksort'\u001b[0m\u001b[0;34m)\u001b[0m\u001b[0;34m\u001b[0m\u001b[0;34m\u001b[0m\u001b[0m\n\u001b[0m\u001b[1;32m    309\u001b[0m         \u001b[0maux\u001b[0m \u001b[0;34m=\u001b[0m \u001b[0mar\u001b[0m\u001b[0;34m[\u001b[0m\u001b[0mperm\u001b[0m\u001b[0;34m]\u001b[0m\u001b[0;34m\u001b[0m\u001b[0;34m\u001b[0m\u001b[0m\n\u001b[1;32m    310\u001b[0m     \u001b[0;32melse\u001b[0m\u001b[0;34m:\u001b[0m\u001b[0;34m\u001b[0m\u001b[0;34m\u001b[0m\u001b[0m\n",
            "\u001b[0;31mKeyboardInterrupt\u001b[0m: "
          ]
        }
      ]
    }
  ]
}